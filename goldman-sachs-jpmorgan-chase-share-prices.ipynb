{
 "cells": [
  {
   "cell_type": "code",
   "execution_count": 1,
   "id": "b530389c",
   "metadata": {
    "_cell_guid": "b1076dfc-b9ad-4769-8c92-a6c4dae69d19",
    "_uuid": "8f2839f25d086af736a60e9eeb907d3b93b6e0e5",
    "execution": {
     "iopub.execute_input": "2023-04-29T19:38:26.779830Z",
     "iopub.status.busy": "2023-04-29T19:38:26.778971Z",
     "iopub.status.idle": "2023-04-29T19:38:26.796686Z",
     "shell.execute_reply": "2023-04-29T19:38:26.795274Z"
    },
    "papermill": {
     "duration": 0.027746,
     "end_time": "2023-04-29T19:38:26.800171",
     "exception": false,
     "start_time": "2023-04-29T19:38:26.772425",
     "status": "completed"
    },
    "tags": []
   },
   "outputs": [
    {
     "name": "stdout",
     "output_type": "stream",
     "text": [
      "/kaggle/input/goldman-sachs-and-jpmorgan-chase-share-prices/The Goldman Sachs.csv\n",
      "/kaggle/input/goldman-sachs-and-jpmorgan-chase-share-prices/JPMorgan Chase.csv\n"
     ]
    }
   ],
   "source": [
    "# This Python 3 environment comes with many helpful analytics libraries installed\n",
    "# It is defined by the kaggle/python Docker image: https://github.com/kaggle/docker-python\n",
    "# For example, here's several helpful packages to load\n",
    "\n",
    "import numpy as np # linear algebra\n",
    "import pandas as pd # data processing, CSV file I/O (e.g. pd.read_csv)\n",
    "\n",
    "# Input data files are available in the read-only \"../input/\" directory\n",
    "# For example, running this (by clicking run or pressing Shift+Enter) will list all files under the input directory\n",
    "\n",
    "import os\n",
    "for dirname, _, filenames in os.walk('/kaggle/input'):\n",
    "    for filename in filenames:\n",
    "        print(os.path.join(dirname, filename))\n",
    "\n",
    "# You can write up to 20GB to the current directory (/kaggle/working/) that gets preserved as output when you create a version using \"Save & Run All\" \n",
    "# You can also write temporary files to /kaggle/temp/, but they won't be saved outside of the current session"
   ]
  },
  {
   "cell_type": "markdown",
   "id": "933126a5",
   "metadata": {
    "papermill": {
     "duration": 0.003216,
     "end_time": "2023-04-29T19:38:26.807856",
     "exception": false,
     "start_time": "2023-04-29T19:38:26.804640",
     "status": "completed"
    },
    "tags": []
   },
   "source": [
    "# About Data set\n",
    "\n",
    "## Goldman Sachs & JPMorgan Chase share prices (2000 - 2023)\n",
    "\n",
    "Two of the largest investment banks in the USA\n",
    "\n",
    "**Goldman Sachs**\n",
    "\n",
    "Goldman Sachs is an American multinational investment bank and financial services company. Founded in 1869, Goldman Sachs is headquartered at 200 West Street in Lower Manhattan, with regional headquarters in London, Warsaw, Bangalore, Hong Kong, Tokyo, Dallas and Salt Lake City, and additional offices in other international financial centers. Goldman Sachs is the second largest investment bank in the world by revenue and is ranked 57th on the Fortune 500 list of the largest United States corporations by total revenue. It is considered a systemically important financial institution by the Financial Stability Board.\n",
    "\n",
    "**JP Morgan Chase**\n",
    "\n",
    "JPMorgan Chase & Co. is an American multinational financial services company headquartered in New York City and incorporated in Delaware. It is the largest bank in the United States and the world's largest bank by market capitalization (as of 2023). As the largest of the Big Four banks, the firm is considered systemically important by the Financial Stability Board. Its size and scale has led to enhanced regulatory oversight as well as the maintenance of an internal \"Fortress Balance Sheet\" of capital reserves. The firm is headquartered on 383 Madison Avenue in Midtown Manhattan and is set to move into the under-construction JPMorgan Chase Building in 2025."
   ]
  },
  {
   "cell_type": "code",
   "execution_count": 2,
   "id": "f719b5b3",
   "metadata": {
    "execution": {
     "iopub.execute_input": "2023-04-29T19:38:26.817391Z",
     "iopub.status.busy": "2023-04-29T19:38:26.816489Z",
     "iopub.status.idle": "2023-04-29T19:38:26.822490Z",
     "shell.execute_reply": "2023-04-29T19:38:26.821258Z"
    },
    "papermill": {
     "duration": 0.013888,
     "end_time": "2023-04-29T19:38:26.825185",
     "exception": false,
     "start_time": "2023-04-29T19:38:26.811297",
     "status": "completed"
    },
    "tags": []
   },
   "outputs": [],
   "source": [
    "import matplotlib.pyplot as plt\n",
    "import pandas as pd \n",
    "import numpy as np"
   ]
  },
  {
   "cell_type": "code",
   "execution_count": 3,
   "id": "803c9637",
   "metadata": {
    "execution": {
     "iopub.execute_input": "2023-04-29T19:38:26.833849Z",
     "iopub.status.busy": "2023-04-29T19:38:26.833380Z",
     "iopub.status.idle": "2023-04-29T19:38:26.906013Z",
     "shell.execute_reply": "2023-04-29T19:38:26.904017Z"
    },
    "papermill": {
     "duration": 0.080187,
     "end_time": "2023-04-29T19:38:26.908664",
     "exception": false,
     "start_time": "2023-04-29T19:38:26.828477",
     "status": "completed"
    },
    "tags": []
   },
   "outputs": [
    {
     "name": "stdout",
     "output_type": "stream",
     "text": [
      "            Date        Open        High         Low       Close   Adj Close  \\\n",
      "0     2000-01-03   49.833332   50.250000   48.083332   48.583332   24.406227   \n",
      "1     2000-01-04   47.083332   47.458332   46.125000   47.250000   23.870712   \n",
      "2     2000-01-05   46.833332   48.375000   46.000000   46.958332   23.723372   \n",
      "3     2000-01-06   46.750000   48.625000   46.500000   47.625000   24.060173   \n",
      "4     2000-01-07   48.416668   49.000000   47.333332   48.500000   24.502220   \n",
      "...          ...         ...         ...         ...         ...         ...   \n",
      "5858  2023-04-17  139.949997  140.059998  137.660004  139.830002  139.830002   \n",
      "5859  2023-04-18  140.270004  141.779999  139.029999  141.399994  141.399994   \n",
      "5860  2023-04-19  141.229996  141.500000  140.399994  141.220001  141.220001   \n",
      "5861  2023-04-20  139.910004  141.429993  139.839996  140.809998  140.809998   \n",
      "5862  2023-04-21  139.740005  141.110001  138.779999  140.539993  140.539993   \n",
      "\n",
      "        Volume  \n",
      "0     12019200  \n",
      "1     11723400  \n",
      "2      8714550  \n",
      "3      8369250  \n",
      "4      6571950  \n",
      "...        ...  \n",
      "5858  16050500  \n",
      "5859  13760100  \n",
      "5860   9158100  \n",
      "5861  10586200  \n",
      "5862  11841800  \n",
      "\n",
      "[5863 rows x 7 columns]\n",
      "---------------------------------------------------------------------------\n",
      "            Date        Open        High         Low       Close   Adj Close  \\\n",
      "0     2000-01-03   94.187500   94.375000   87.750000   88.312500   65.690536   \n",
      "1     2000-01-04   87.000000   87.500000   82.250000   82.750000   61.552921   \n",
      "2     2000-01-05   80.875000   81.875000   78.375000   78.875000   58.670509   \n",
      "3     2000-01-06   78.625000   84.500000   78.625000   82.250000   61.180992   \n",
      "4     2000-01-07   83.062500   83.187500   79.875000   82.562500   61.413429   \n",
      "...          ...         ...         ...         ...         ...         ...   \n",
      "5858  2023-04-17  336.000000  340.450012  333.679993  339.679993  339.679993   \n",
      "5859  2023-04-18  328.000000  336.549988  326.130005  333.910004  333.910004   \n",
      "5860  2023-04-19  332.980011  336.989990  331.670013  336.890015  336.890015   \n",
      "5861  2023-04-20  334.950012  339.309998  334.320007  338.709991  338.709991   \n",
      "5862  2023-04-21  339.000000  342.359985  336.000000  341.660004  341.660004   \n",
      "\n",
      "       Volume  \n",
      "0     1822600  \n",
      "1     1647700  \n",
      "2     1516600  \n",
      "3     1845100  \n",
      "4     1127400  \n",
      "...       ...  \n",
      "5858  3012100  \n",
      "5859  7549500  \n",
      "5860  2625400  \n",
      "5861  2217900  \n",
      "5862  2277100  \n",
      "\n",
      "[5863 rows x 7 columns]\n"
     ]
    }
   ],
   "source": [
    "jpm_data = pd.read_csv('/kaggle/input/goldman-sachs-and-jpmorgan-chase-share-prices/JPMorgan Chase.csv')\n",
    "gs_data = pd.read_csv('/kaggle/input/goldman-sachs-and-jpmorgan-chase-share-prices/The Goldman Sachs.csv')\n",
    "\n",
    "print(jpm_data)\n",
    "print('---'* 25)\n",
    "print(gs_data)"
   ]
  },
  {
   "cell_type": "markdown",
   "id": "9ca8e537",
   "metadata": {
    "papermill": {
     "duration": 0.003082,
     "end_time": "2023-04-29T19:38:26.915532",
     "exception": false,
     "start_time": "2023-04-29T19:38:26.912450",
     "status": "completed"
    },
    "tags": []
   },
   "source": [
    "# Studying Data\n",
    "\n",
    "**here we would make sure to check things such as**\n",
    "\n",
    "- missing values \n",
    "- non missing values \n",
    "- info \n",
    " & more"
   ]
  },
  {
   "cell_type": "code",
   "execution_count": 4,
   "id": "1e314c9b",
   "metadata": {
    "execution": {
     "iopub.execute_input": "2023-04-29T19:38:26.925598Z",
     "iopub.status.busy": "2023-04-29T19:38:26.924444Z",
     "iopub.status.idle": "2023-04-29T19:38:26.961107Z",
     "shell.execute_reply": "2023-04-29T19:38:26.959247Z"
    },
    "papermill": {
     "duration": 0.04491,
     "end_time": "2023-04-29T19:38:26.964237",
     "exception": false,
     "start_time": "2023-04-29T19:38:26.919327",
     "status": "completed"
    },
    "tags": []
   },
   "outputs": [
    {
     "name": "stdout",
     "output_type": "stream",
     "text": [
      "<class 'pandas.core.frame.DataFrame'>\n",
      "RangeIndex: 5863 entries, 0 to 5862\n",
      "Data columns (total 7 columns):\n",
      " #   Column     Non-Null Count  Dtype  \n",
      "---  ------     --------------  -----  \n",
      " 0   Date       5863 non-null   object \n",
      " 1   Open       5863 non-null   float64\n",
      " 2   High       5863 non-null   float64\n",
      " 3   Low        5863 non-null   float64\n",
      " 4   Close      5863 non-null   float64\n",
      " 5   Adj Close  5863 non-null   float64\n",
      " 6   Volume     5863 non-null   int64  \n",
      "dtypes: float64(5), int64(1), object(1)\n",
      "memory usage: 320.8+ KB\n",
      "------------------------------\n",
      "<class 'pandas.core.frame.DataFrame'>\n",
      "RangeIndex: 5863 entries, 0 to 5862\n",
      "Data columns (total 7 columns):\n",
      " #   Column     Non-Null Count  Dtype  \n",
      "---  ------     --------------  -----  \n",
      " 0   Date       5863 non-null   object \n",
      " 1   Open       5863 non-null   float64\n",
      " 2   High       5863 non-null   float64\n",
      " 3   Low        5863 non-null   float64\n",
      " 4   Close      5863 non-null   float64\n",
      " 5   Adj Close  5863 non-null   float64\n",
      " 6   Volume     5863 non-null   int64  \n",
      "dtypes: float64(5), int64(1), object(1)\n",
      "memory usage: 320.8+ KB\n"
     ]
    }
   ],
   "source": [
    "jpm_data.info()\n",
    "print(\"--\" * 15)\n",
    "gs_data.info()\n",
    "\n",
    "#line indent \n",
    "line_indent = '--' * 25"
   ]
  },
  {
   "cell_type": "code",
   "execution_count": 5,
   "id": "6f45f5fb",
   "metadata": {
    "execution": {
     "iopub.execute_input": "2023-04-29T19:38:26.973771Z",
     "iopub.status.busy": "2023-04-29T19:38:26.972530Z",
     "iopub.status.idle": "2023-04-29T19:38:27.004140Z",
     "shell.execute_reply": "2023-04-29T19:38:27.002828Z"
    },
    "papermill": {
     "duration": 0.039233,
     "end_time": "2023-04-29T19:38:27.006947",
     "exception": false,
     "start_time": "2023-04-29T19:38:26.967714",
     "status": "completed"
    },
    "tags": []
   },
   "outputs": [
    {
     "name": "stdout",
     "output_type": "stream",
     "text": [
      "missing values\n",
      "jp morgan \n",
      " Date         0\n",
      "Open         0\n",
      "High         0\n",
      "Low          0\n",
      "Close        0\n",
      "Adj Close    0\n",
      "Volume       0\n",
      "dtype: int64 \n",
      " --------------------------------------------------\n",
      "golden sachs \n",
      " Date         0\n",
      "Open         0\n",
      "High         0\n",
      "Low          0\n",
      "Close        0\n",
      "Adj Close    0\n",
      "Volume       0\n",
      "dtype: int64 \n",
      " --------------------------------------------------\n",
      " \n",
      " duplicated rows\n",
      "jp morgan \n",
      " Date         0\n",
      "Open         0\n",
      "High         0\n",
      "Low          0\n",
      "Close        0\n",
      "Adj Close    0\n",
      "Volume       0\n",
      "dtype: int64 \n",
      " --------------------------------------------------\n",
      "golden sachs Date         0\n",
      "Open         0\n",
      "High         0\n",
      "Low          0\n",
      "Close        0\n",
      "Adj Close    0\n",
      "Volume       0\n",
      "dtype: int64 \n",
      " --------------------------------------------------\n"
     ]
    }
   ],
   "source": [
    "#missing values\n",
    "jpm_data_missing_values = jpm_data.isnull().sum()\n",
    "gs_data_missing_values = gs_data.isnull().sum()\n",
    "\n",
    "#duplicate rows\n",
    "jpm_data_duplicate_rows = jpm_data.duplicated().sum()\n",
    "gs_data_duplicated_rows = gs_data.duplicated().sum()\n",
    "\n",
    "print(\"missing values\")\n",
    "print(\"jp morgan \\n\", jpm_data_missing_values, \"\\n\", line_indent)\n",
    "print(\"golden sachs \\n\", gs_data_missing_values,\"\\n\", line_indent)\n",
    "\n",
    "print(\" \\n duplicated rows\")\n",
    "print(\"jp morgan \\n\", jpm_data_missing_values, '\\n', line_indent)\n",
    "print(\"golden sachs\", gs_data_missing_values, '\\n', line_indent)"
   ]
  },
  {
   "cell_type": "markdown",
   "id": "9a03cb17",
   "metadata": {
    "papermill": {
     "duration": 0.003792,
     "end_time": "2023-04-29T19:38:27.014641",
     "exception": false,
     "start_time": "2023-04-29T19:38:27.010849",
     "status": "completed"
    },
    "tags": []
   },
   "source": [
    "# Analize The Data\n",
    "Use statistical methods like df.describe(), df.corr(), and df.mean() to analyze the data and gain insights into patterns, trends, or relationships among variables.\n"
   ]
  },
  {
   "cell_type": "code",
   "execution_count": null,
   "id": "3e28293b",
   "metadata": {
    "papermill": {
     "duration": 0.003428,
     "end_time": "2023-04-29T19:38:27.021875",
     "exception": false,
     "start_time": "2023-04-29T19:38:27.018447",
     "status": "completed"
    },
    "tags": []
   },
   "outputs": [],
   "source": []
  }
 ],
 "metadata": {
  "kernelspec": {
   "display_name": "Python 3",
   "language": "python",
   "name": "python3"
  },
  "language_info": {
   "codemirror_mode": {
    "name": "ipython",
    "version": 3
   },
   "file_extension": ".py",
   "mimetype": "text/x-python",
   "name": "python",
   "nbconvert_exporter": "python",
   "pygments_lexer": "ipython3",
   "version": "3.7.12"
  },
  "papermill": {
   "default_parameters": {},
   "duration": 12.099763,
   "end_time": "2023-04-29T19:38:27.749923",
   "environment_variables": {},
   "exception": null,
   "input_path": "__notebook__.ipynb",
   "output_path": "__notebook__.ipynb",
   "parameters": {},
   "start_time": "2023-04-29T19:38:15.650160",
   "version": "2.4.0"
  }
 },
 "nbformat": 4,
 "nbformat_minor": 5
}
